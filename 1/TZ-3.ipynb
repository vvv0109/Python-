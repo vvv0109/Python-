{
 "cells": [
  {
   "cell_type": "markdown",
   "id": "4a5c35ba",
   "metadata": {},
   "source": [
    "## Условие 1: Задача 1\n",
    "Скачать данные по ссылке https://www.kaggle.com/datasets/esratmaria/house-price-dataset-with-other-information\n",
    "\n",
    "Считать данные с помощью pandas\n",
    "\n",
    "Вывести на экран первые 5 строк"
   ]
  },
  {
   "cell_type": "code",
   "execution_count": null,
   "id": "ebc82f2a-f635-403b-bfcf-dd3fb45b4ebb",
   "metadata": {},
   "outputs": [],
   "source": [
    "import pandas as pd"
   ]
  },
  {
   "cell_type": "code",
   "execution_count": null,
   "id": "00dfab91",
   "metadata": {
    "tags": []
   },
   "outputs": [],
   "source": [
    "df = pd.read_csv('./kc_house_data.csv')\n",
    "df.head()"
   ]
  },
  {
   "cell_type": "code",
   "execution_count": null,
   "id": "1e8d7cb4",
   "metadata": {
    "tags": []
   },
   "outputs": [],
   "source": [
    "df.shape"
   ]
  },
  {
   "cell_type": "markdown",
   "id": "0cc1b7d9",
   "metadata": {},
   "source": [
    "### 1.2 Создать новый признак delta_renovated, который будет содержать разницу в годах между годом реновации дома и годом постройки дома\n",
    "Если реновации дома не было, то в новом признаке поставьте 0"
   ]
  },
  {
   "cell_type": "code",
   "execution_count": null,
   "id": "928c340c",
   "metadata": {
    "tags": []
   },
   "outputs": [],
   "source": [
    "yr_diff = []\n",
    "\n",
    "for i, row in df.iterrows():\n",
    "    if row['yr_renovated']:\n",
    "        yr_diff.append(row['yr_renovated']-row['yr_built'])\n",
    "    else:\n",
    "        yr_diff.append(0)\n",
    "        \n",
    "len(yr_diff)"
   ]
  },
  {
   "cell_type": "code",
   "execution_count": null,
   "id": "c95d76a0",
   "metadata": {
    "tags": []
   },
   "outputs": [],
   "source": [
    "df['delta_renovated'] = yr_diff\n",
    "\n",
    "df[['yr_built', 'yr_renovated', 'delta_renovated']].head()"
   ]
  },
  {
   "cell_type": "code",
   "execution_count": null,
   "id": "ee378e8b",
   "metadata": {
    "tags": []
   },
   "outputs": [],
   "source": [
    "df[df['yr_renovated'] > 0][['yr_built', 'yr_renovated', 'delta_renovated']].head()"
   ]
  },
  {
   "cell_type": "code",
   "execution_count": null,
   "id": "026887c5",
   "metadata": {
    "tags": []
   },
   "outputs": [],
   "source": [
    "df['yr_renovated'] = df['yr_renovated'] - df['yr_built']\n",
    "df['yr_renovated'] = df['yr_renovated'].apply(lambda x: x if x > 0 else 0)\n",
    "\n",
    "df[['yr_built', 'yr_renovated', 'delta_renovated']].head()"
   ]
  },
  {
   "cell_type": "code",
   "execution_count": null,
   "id": "d67cf15c",
   "metadata": {
    "tags": []
   },
   "outputs": [],
   "source": [
    "df[df['yr_renovated'] > 0][['yr_built', 'yr_renovated', 'delta_renovated']].head()"
   ]
  },
  {
   "cell_type": "markdown",
   "id": "8caa2b15",
   "metadata": {},
   "source": [
    "### 1.3 Создайте признаки года продажи, месяца продажи"
   ]
  },
  {
   "cell_type": "code",
   "execution_count": null,
   "id": "e9871b1f",
   "metadata": {
    "tags": []
   },
   "outputs": [],
   "source": [
    "df['yr_sale'] = df['date'].apply(lambda x: int(x[:4]))\n",
    "df['mth_sale'] = df['date'].apply(lambda x: int(x[4:6]))\n",
    "\n",
    "df[['date', 'yr_sale', 'mth_sale']].head()"
   ]
  },
  {
   "cell_type": "markdown",
   "id": "66c148e0",
   "metadata": {},
   "source": [
    "### 1.4 Удалите признаки date, zipcode, lat, long"
   ]
  },
  {
   "cell_type": "code",
   "execution_count": null,
   "id": "90e1b0f4",
   "metadata": {
    "tags": []
   },
   "outputs": [],
   "source": [
    "df.drop(columns=['date', 'zipcode', 'lat', 'long'], inplace=True)\n",
    "df.head()"
   ]
  },
  {
   "cell_type": "markdown",
   "id": "79b83db7",
   "metadata": {},
   "source": [
    "## Условие 2: 2 задача\n",
    "Создайте датафрейм с клиентами:\n",
    "```\n",
    "clients = pd.DataFrame({\n",
    "                        'client_id': [1459, 4684, 3498, 3942, 4535, 2308, 2866, 2765, 1472, 4236, 2295,\n",
    "                                  939, 3840, 280, 20, 4332, 3475, 4213, 3113, 4809, 2134, 2242,\n",
    "                                  2068, 4929, 1384, 1589, 3317, 2260, 1727, 1764, 1611, 1474],\n",
    "                        'house_id': [8965450190, 6823100225, 5104540330, 2131701075, 1522700060,\n",
    "                                1189000207, 6821600300, 7137950720, 9510920050, 6131600255,\n",
    "                                5428000070, 1788800910, 8100400160, 3123049142, 6306800010,\n",
    "                                5083000375, 7920100025, 1951600150, 809001400, 339600110,\n",
    "                                1622049154, 1099600250, 8563000110, 2768100205, 3995700435,\n",
    "                                8861700030, 3303980210, 7731100066, 8146100580, 825069097,\n",
    "                                3889100029, 9524100196]\n",
    "                        })\n",
    "```"
   ]
  },
  {
   "cell_type": "code",
   "execution_count": null,
   "id": "9e0d1272",
   "metadata": {
    "tags": []
   },
   "outputs": [],
   "source": [
    "clients = pd.DataFrame({\n",
    "                        'client_id': [1459, 4684, 3498, 3942, 4535, 2308, 2866, 2765, 1472, 4236, 2295,\n",
    "                                  939, 3840, 280, 20, 4332, 3475, 4213, 3113, 4809, 2134, 2242,\n",
    "                                  2068, 4929, 1384, 1589, 3317, 2260, 1727, 1764, 1611, 1474],\n",
    "                        'house_id': [8965450190, 6823100225, 5104540330, 2131701075, 1522700060,\n",
    "                                1189000207, 6821600300, 7137950720, 9510920050, 6131600255,\n",
    "                                5428000070, 1788800910, 8100400160, 3123049142, 6306800010,\n",
    "                                5083000375, 7920100025, 1951600150, 809001400, 339600110,\n",
    "                                1622049154, 1099600250, 8563000110, 2768100205, 3995700435,\n",
    "                                8861700030, 3303980210, 7731100066, 8146100580, 825069097,\n",
    "                                3889100029, 9524100196]\n",
    "                        })\n",
    "clients.head()"
   ]
  },
  {
   "cell_type": "markdown",
   "id": "644fa540",
   "metadata": {},
   "source": [
    "### 2.1 Присоедините к таблице clients данные по домам через метод join"
   ]
  },
  {
   "cell_type": "code",
   "execution_count": null,
   "id": "b0be94bf",
   "metadata": {
    "tags": []
   },
   "outputs": [],
   "source": [
    "clients_id = clients.set_index('house_id')\n",
    "df_id = df.set_index('id')\n",
    "\n",
    "clients_id.join(df_id).reset_index().head()"
   ]
  },
  {
   "cell_type": "markdown",
   "id": "b5dd08b7",
   "metadata": {},
   "source": [
    "### 2.2 Присоедините к таблице clients данные по домам через метод merge\n",
    "Это нужно, чтобы понимать, какие дома покупались клиентами\n",
    "house_id - это индексы датафрейма с домами"
   ]
  },
  {
   "cell_type": "code",
   "execution_count": null,
   "id": "f309fe17",
   "metadata": {
    "tags": []
   },
   "outputs": [],
   "source": [
    "merge = clients.merge(df, left_on='house_id', right_on='id')\n",
    "merge.head()"
   ]
  },
  {
   "cell_type": "markdown",
   "id": "cd695191",
   "metadata": {},
   "source": [
    "## Условие 3: 3 задача. \n",
    "Составьте несколько сводных таблиц"
   ]
  },
  {
   "cell_type": "markdown",
   "id": "1259b77d",
   "metadata": {},
   "source": [
    "### 3.1 Найдите среднюю стоимость домов в зависимости от количества спален. Отсортируйте от меньшей стоимости к большей"
   ]
  },
  {
   "cell_type": "code",
   "execution_count": null,
   "id": "7380a17f",
   "metadata": {
    "tags": []
   },
   "outputs": [],
   "source": [
    "df.groupby('bedrooms').agg({'price': 'mean'}).sort_values('price')"
   ]
  },
  {
   "cell_type": "markdown",
   "id": "b8293669",
   "metadata": {},
   "source": [
    "### 3.2 Найдите минимальную, среднюю и максимальную стоимости домов в зависимости от состояния дома"
   ]
  },
  {
   "cell_type": "code",
   "execution_count": null,
   "id": "b7920935",
   "metadata": {
    "tags": []
   },
   "outputs": [],
   "source": [
    "df.groupby('condition').agg({'price': ['min', 'mean', 'max']})"
   ]
  },
  {
   "cell_type": "markdown",
   "id": "2a9286ab",
   "metadata": {},
   "source": [
    "### 3.3 Постройте таблицу с подсчетом количества домов в данных в зависимости от вида на набережную и оценкой вида"
   ]
  },
  {
   "cell_type": "code",
   "execution_count": null,
   "id": "2d64691d",
   "metadata": {
    "tags": []
   },
   "outputs": [],
   "source": [
    "df.pivot_table(index='waterfront',\n",
    "               columns='view',\n",
    "               values='id',\n",
    "               aggfunc='count',\n",
    "               fill_value=0)"
   ]
  },
  {
   "cell_type": "markdown",
   "id": "3090838b",
   "metadata": {},
   "source": [
    "### 3.4 Каких домов в зависимости от этажности и количества спален больше?"
   ]
  },
  {
   "cell_type": "code",
   "execution_count": null,
   "id": "095d6035",
   "metadata": {
    "tags": []
   },
   "outputs": [],
   "source": [
    "pd.crosstab(index=df['floors'],\n",
    "            columns=df['bedrooms'])"
   ]
  },
  {
   "cell_type": "markdown",
   "id": "62eb85ee",
   "metadata": {},
   "source": [
    "Больше одноэтажных домов с 3-мя спальнями"
   ]
  },
  {
   "cell_type": "markdown",
   "id": "c43bc1db",
   "metadata": {},
   "source": [
    "### 3.5 Постройте таблицу с подсчетом медианной стоимости домов в данных в зависимости от состояния дома и оценки дома"
   ]
  },
  {
   "cell_type": "code",
   "execution_count": null,
   "id": "21b986f7",
   "metadata": {
    "tags": []
   },
   "outputs": [],
   "source": [
    "df.pivot_table(index='condition',\n",
    "               columns='grade',\n",
    "               values='price',\n",
    "               aggfunc='median',\n",
    "               fill_value=0)"
   ]
  }
 ],
 "metadata": {
  "kernelspec": {
   "display_name": "Python 3 (ipykernel)",
   "language": "python",
   "name": "python3"
  },
  "language_info": {
   "codemirror_mode": {
    "name": "ipython",
    "version": 3
   },
   "file_extension": ".py",
   "mimetype": "text/x-python",
   "name": "python",
   "nbconvert_exporter": "python",
   "pygments_lexer": "ipython3",
   "version": "3.11.3"
  }
 },
 "nbformat": 4,
 "nbformat_minor": 5
}
