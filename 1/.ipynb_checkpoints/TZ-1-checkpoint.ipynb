{
 "cells": [
  {
   "cell_type": "markdown",
   "id": "8b6beb90-3656-4d54-9221-c91ebe48573c",
   "metadata": {
    "tags": []
   },
   "source": [
    "## Условие 1\n",
    "### На складе лежат разные фрукты в разном количестве.\n",
    "### Нужно написать функцию, которая на вход принимает любое количество названий фруктов и их количество, а возвращает общее количество фруктов на складе"
   ]
  },
  {
   "cell_type": "code",
   "execution_count": 6,
   "id": "8b0f30b2-6259-4d8d-aee1-17f72c5ca2d4",
   "metadata": {
    "tags": []
   },
   "outputs": [
    {
     "name": "stdin",
     "output_type": "stream",
     "text": [
      "Введите название фрукта (или 'стоп' для завершения):  банан\n",
      "Введите количество:  10\n",
      "Введите название фрукта (или 'стоп' для завершения):  ити\n",
      "Введите количество:  15\n",
      "Введите название фрукта (или 'стоп' для завершения):  стоп\n"
     ]
    },
    {
     "name": "stdout",
     "output_type": "stream",
     "text": [
      "{'банан': 10, 'ити': 15}\n",
      "Общее количество фруктов на складе: 25\n"
     ]
    }
   ],
   "source": [
    "def count_fruits(**kwargs):\n",
    "    total_count = 0\n",
    "    for fruit, count in kwargs.items():\n",
    "        total_count += count\n",
    "    print(kwargs)\n",
    "    return total_count\n",
    "fruits = {}\n",
    "while True:\n",
    "    fruit = input(\"Введите название фрукта (или 'стоп' для завершения): \")\n",
    "    if fruit == 'стоп':\n",
    "        break\n",
    "    count = int(input(\"Введите количество: \"))\n",
    "    fruits[fruit] = count\n",
    "\n",
    "total = count_fruits(**fruits)\n",
    "print(f\"Общее количество фруктов на складе: {total}\")"
   ]
  },
  {
   "cell_type": "markdown",
   "id": "452d3306-eee9-4988-bc71-7896db32d757",
   "metadata": {
    "tags": []
   },
   "source": [
    "## Условие 2"
   ]
  },
  {
   "cell_type": "markdown",
   "id": "eb4273d6-e27b-4c72-805e-450ffc98e858",
   "metadata": {
    "tags": []
   },
   "source": [
    "### Дан список с затратами на рекламу. Но в данных есть ошибки, некоторые затраты имеют отрицательную величину. Удалите такие значения из списка и посчитайте суммарные затраты\n",
    "### Используйте list comprehensions"
   ]
  },
  {
   "cell_type": "code",
   "execution_count": null,
   "id": "6f94e0d9-5d20-4eb7-a5a4-ff6cc03ce19b",
   "metadata": {},
   "outputs": [],
   "source": [
    "[100, 125, -90, 345, 655, -1, 0, 200]"
   ]
  },
  {
   "cell_type": "code",
   "execution_count": 9,
   "id": "8c06864b-cb19-41ca-888b-856aa0621957",
   "metadata": {
    "tags": []
   },
   "outputs": [
    {
     "name": "stdout",
     "output_type": "stream",
     "text": [
      "1425\n"
     ]
    }
   ],
   "source": [
    "ad_costs = [100, 125, -90, 345, 655, -1, 0, 200]\n",
    "ad_costs_positive = [cost for cost in ad_costs if cost > 0]\n",
    "total_costs = sum(ad_costs_positive)\n",
    "print(total_costs)\n"
   ]
  },
  {
   "cell_type": "markdown",
   "id": "3a308ac5-6902-4a6b-8ab4-41e0a2a6bf4b",
   "metadata": {},
   "source": [
    "## Условие 3:"
   ]
  },
  {
   "cell_type": "markdown",
   "id": "31089eba-d205-4175-9bdc-87a5a248c6d2",
   "metadata": {
    "tags": []
   },
   "source": [
    "### Условие 3.1:"
   ]
  },
  {
   "cell_type": "markdown",
   "id": "076d725d-14af-4673-b4d0-827d9a116479",
   "metadata": {},
   "source": [
    "#### Даны два списка.\n",
    "##### Дата покупки"
   ]
  },
  {
   "cell_type": "code",
   "execution_count": 1,
   "id": "588cb6b5-1375-4de8-b2be-ecb87386419b",
   "metadata": {
    "collapsed": true,
    "jupyter": {
     "outputs_hidden": true
    },
    "tags": []
   },
   "outputs": [
    {
     "data": {
      "text/plain": [
       "['2021-09-14',\n",
       " '2021-12-15',\n",
       " '2021-09-08',\n",
       " '2021-12-05',\n",
       " '2021-10-09',\n",
       " '2021-09-30',\n",
       " '2021-12-22',\n",
       " '2021-11-29',\n",
       " '2021-12-24',\n",
       " '2021-11-26',\n",
       " '2021-10-27',\n",
       " '2021-12-18',\n",
       " '2021-11-09',\n",
       " '2021-11-23',\n",
       " '2021-09-27',\n",
       " '2021-10-02',\n",
       " '2021-12-27',\n",
       " '2021-09-20',\n",
       " '2021-12-13',\n",
       " '2021-11-01',\n",
       " '2021-11-09',\n",
       " '2021-12-06',\n",
       " '2021-12-08',\n",
       " '2021-10-09',\n",
       " '2021-10-31',\n",
       " '2021-09-30',\n",
       " '2021-11-09',\n",
       " '2021-12-13',\n",
       " '2021-10-26',\n",
       " '2021-12-09']"
      ]
     },
     "execution_count": 1,
     "metadata": {},
     "output_type": "execute_result"
    }
   ],
   "source": [
    "['2021-09-14', '2021-12-15', '2021-09-08', '2021-12-05', '2021-10-09', '2021-09-30', '2021-12-22', '2021-11-29', '2021-12-24', '2021-11-26', '2021-10-27', '2021-12-18', '2021-11-09', '2021-11-23', '2021-09-27', '2021-10-02', '2021-12-27', '2021-09-20', '2021-12-13', '2021-11-01', '2021-11-09', '2021-12-06', '2021-12-08', '2021-10-09', '2021-10-31', '2021-09-30', '2021-11-09', '2021-12-13', '2021-10-26', '2021-12-09']"
   ]
  },
  {
   "cell_type": "markdown",
   "id": "8e4c03de-48ae-44b0-b7c5-9e8714f5e2c1",
   "metadata": {},
   "source": [
    "##### Суммы покупок по датам"
   ]
  },
  {
   "cell_type": "code",
   "execution_count": 13,
   "id": "db3988af-2c95-4d2c-a264-5b2bb9f68772",
   "metadata": {
    "collapsed": true,
    "jupyter": {
     "outputs_hidden": true
    },
    "tags": []
   },
   "outputs": [
    {
     "data": {
      "text/plain": [
       "[1270,\n",
       " 8413,\n",
       " 9028,\n",
       " 3703,\n",
       " 5739,\n",
       " 4095,\n",
       " 295,\n",
       " 4944,\n",
       " 5723,\n",
       " 3701,\n",
       " 4471,\n",
       " 651,\n",
       " 7037,\n",
       " 4274,\n",
       " 6275,\n",
       " 4988,\n",
       " 6930,\n",
       " 2971,\n",
       " 6592,\n",
       " 2004,\n",
       " 2822,\n",
       " 519,\n",
       " 3406,\n",
       " 2732,\n",
       " 5015,\n",
       " 2008,\n",
       " 316,\n",
       " 6333,\n",
       " 5700,\n",
       " 2887]"
      ]
     },
     "execution_count": 13,
     "metadata": {},
     "output_type": "execute_result"
    }
   ],
   "source": [
    "[1270, 8413, 9028, 3703, 5739, 4095, 295, 4944, 5723, 3701, 4471, 651, 7037, 4274, 6275, 4988, 6930, 2971, 6592, 2004, 2822, 519, 3406, 2732, 5015, 2008, 316, 6333, 5700, 2887]"
   ]
  },
  {
   "cell_type": "code",
   "execution_count": 2,
   "id": "f5ca7c4e-a75c-4b94-b210-5c6839e3edc5",
   "metadata": {
    "tags": []
   },
   "outputs": [
    {
     "name": "stdout",
     "output_type": "stream",
     "text": [
      "25098\n"
     ]
    }
   ],
   "source": [
    "dates = ['2021-09-14', '2021-12-15', '2021-09-08', '2021-12-05', '2021-10-09', '2021-09-30', '2021-12-22', '2021-11-29', '2021-12-24', '2021-11-26', '2021-10-27', '2021-12-18', '2021-11-09', '2021-11-23', '2021-09-27', '2021-10-02', '2021-12-27', '2021-09-20', '2021-12-13', '2021-11-01', '2021-11-09', '2021-12-06', '2021-12-08', '2021-10-09', '2021-10-31', '2021-09-30', '2021-11-09', '2021-12-13', '2021-10-26', '2021-12-09']\n",
    "sales = [1270, 8413, 9028, 3703, 5739, 4095, 295, 4944, 5723, 3701, 4471, 651, 7037, 4274, 6275, 4988, 6930, 2971, 6592, 2004, 2822, 519, 3406, 2732, 5015, 2008, 316, 6333, 5700, 2887]\n",
    "\n",
    "# выбираем даты, соответствующие ноябрю\n",
    "november_dates = [date for date in dates if date.startswith('2021-11')]\n",
    "\n",
    "# получаем индексы сумм покупок для ноября\n",
    "november_sales_indexes = [i for i in range(len(dates)) if dates[i] in november_dates]\n",
    "\n",
    "# считаем сумму покупок за ноябрь\n",
    "november_sales = sum([sales[i] for i in november_sales_indexes])\n",
    "\n",
    "print(november_sales)\n"
   ]
  },
  {
   "cell_type": "markdown",
   "id": "77f9b135-12ff-4988-98c0-fbe8e056fccc",
   "metadata": {},
   "source": [
    "### Условие 3.2: \n",
    "#### Найдите выручку компании в зависимости от месяца\n",
    "#### Для этого напишите функцию, которая на вход принимает список с датами и список с выручкой, а на выходе словарь, где ключи - это месяцы, а значения - это выручка.\n",
    "#### Используйте аннотирование типов."
   ]
  },
  {
   "cell_type": "code",
   "execution_count": 8,
   "id": "b15d4daa-2744-485d-91bd-c2084e657659",
   "metadata": {
    "tags": []
   },
   "outputs": [
    {
     "name": "stdin",
     "output_type": "stream",
     "text": [
      "Введите список дат в формате 'YYYY-MM-DD', разделяя элементы запятой:  2022-01-01,2022-01-02,2022-02-01,2022-02-03,2022-03-01\n",
      "Введите список выручки, разделяя элементы запятой:  100,200,300,400,500,600\n"
     ]
    },
    {
     "name": "stdout",
     "output_type": "stream",
     "text": [
      "{'01': 300, '02': 700, '03': 500}\n"
     ]
    }
   ],
   "source": [
    "from typing import List\n",
    "\n",
    "def calculate_revenue_by_month(dates: List[str], revenue: List[int]) -> dict:\n",
    "    revenue_by_month = {}\n",
    "    for i in range(len(dates)):\n",
    "        month = dates[i][5:7]\n",
    "        if month not in revenue_by_month:\n",
    "            revenue_by_month[month] = revenue[i]\n",
    "        else:\n",
    "            revenue_by_month[month] += revenue[i]\n",
    "    return revenue_by_month\n",
    "\n",
    "dates = input(\"Введите список дат в формате 'YYYY-MM-DD', разделяя элементы запятой: \").split(\",\")\n",
    "revenue = list(map(int, input(\"Введите список выручки, разделяя элементы запятой: \").split(\",\")))\n",
    "\n",
    "revenue_by_month = calculate_revenue_by_month(dates, revenue)\n",
    "print(revenue_by_month)\n"
   ]
  },
  {
   "cell_type": "code",
   "execution_count": null,
   "id": "31f2b3f8-1595-4e94-9f6a-734f9f2d2a8b",
   "metadata": {},
   "outputs": [],
   "source": []
  }
 ],
 "metadata": {
  "kernelspec": {
   "display_name": "Python 3 (ipykernel)",
   "language": "python",
   "name": "python3"
  },
  "language_info": {
   "codemirror_mode": {
    "name": "ipython",
    "version": 3
   },
   "file_extension": ".py",
   "mimetype": "text/x-python",
   "name": "python",
   "nbconvert_exporter": "python",
   "pygments_lexer": "ipython3",
   "version": "3.11.3"
  }
 },
 "nbformat": 4,
 "nbformat_minor": 5
}
